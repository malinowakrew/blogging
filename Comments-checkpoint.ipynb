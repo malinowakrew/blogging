{
 "cells": [
  {
   "cell_type": "markdown",
   "metadata": {},
   "source": [
    "# Checking comments "
   ]
  },
  {
   "cell_type": "markdown",
   "metadata": {},
   "source": [
    "We want to upload date form the page. We use follow libraries."
   ]
  },
  {
   "cell_type": "code",
   "execution_count": 42,
   "metadata": {},
   "outputs": [],
   "source": [
    "import requests\n",
    "from bs4 import BeautifulSoup\n",
    "import pandas as pd\n",
    "import numpy as np\n",
    "import re\n",
    "import os\n",
    "import random"
   ]
  },
  {
   "cell_type": "code",
   "execution_count": 3,
   "metadata": {},
   "outputs": [],
   "source": [
    "page = 'https://www.horkruks.com/'\n",
    "url = requests.get(page)\n",
    "code = BeautifulSoup(url.text, \"html.parser\")"
   ]
  },
  {
   "cell_type": "markdown",
   "metadata": {},
   "source": [
    "On the bottom there is a list of links to another pages (archivest). We are going to place them in a list."
   ]
  },
  {
   "cell_type": "code",
   "execution_count": 4,
   "metadata": {},
   "outputs": [],
   "source": [
    "lista = code.findAll(\"div\", {\"id\": \"BlogArchive1_ArchiveList\"})\n",
    "lista = lista[0].findAll(\"option\")\n",
    "\n",
    "pages = pd.Series()\n",
    "for http in lista:\n",
    "    pages.at[len(pages)] = (re.sub(\"'\", \"\", str(http['value'])))\n",
    "    \n",
    "#write pages\n",
    "#pages.to_csv('pages_horkruks_links')"
   ]
  },
  {
   "cell_type": "markdown",
   "metadata": {},
   "source": [
    "Fisrt link is empty so we delete it."
   ]
  },
  {
   "cell_type": "code",
   "execution_count": 5,
   "metadata": {},
   "outputs": [],
   "source": [
    "pages = pages.drop([0]) "
   ]
  },
  {
   "cell_type": "markdown",
   "metadata": {},
   "source": [
    "Now, in every link we want to collect all links to particular posts. Well, we start reading links like this."
   ]
  },
  {
   "cell_type": "code",
   "execution_count": 6,
   "metadata": {},
   "outputs": [],
   "source": [
    "single_page = pd.Series()\n",
    "for page in pages:\n",
    "    url = requests.get(page)\n",
    "    page_code = BeautifulSoup(url.text, \"html.parser\")\n",
    "    single_page.at[len(single_page)] = page_code.findAll(\"h3\")"
   ]
  },
  {
   "cell_type": "markdown",
   "metadata": {},
   "source": [
    "We parse every link and then take more links form it. We take only a random sample of list."
   ]
  },
  {
   "cell_type": "code",
   "execution_count": 7,
   "metadata": {},
   "outputs": [],
   "source": [
    "url = requests.get(pages[9])\n",
    "code = BeautifulSoup(url.text, \"html.parser\")"
   ]
  },
  {
   "cell_type": "code",
   "execution_count": 58,
   "metadata": {},
   "outputs": [
    {
     "data": {
      "text/plain": [
       "410        https://www.horkruks.com/2014/08/im-back.html\n",
       "142    https://www.horkruks.com/2017/11/yeezy-sweatsu...\n",
       "607         https://www.horkruks.com/2016/04/things.html\n",
       "234    https://www.horkruks.com/2013/01/paulina-ptasz...\n",
       "236    https://www.horkruks.com/2013/01/oversized-neo...\n",
       "                             ...                        \n",
       "483      https://www.horkruks.com/2014/07/beach-day.html\n",
       "619    https://www.horkruks.com/2014/11/misbhv-fw-201...\n",
       "203    https://www.horkruks.com/2017/06/olive-green.html\n",
       "45           https://www.horkruks.com/2017/12/foggy.html\n",
       "444     https://www.horkruks.com/2019/07/on-my-mind.html\n",
       "Length: 222, dtype: object"
      ]
     },
     "execution_count": 58,
     "metadata": {},
     "output_type": "execute_result"
    }
   ],
   "source": [
    "list_of_single_link = pd.Series()\n",
    "\n",
    "for record in random_sample:\n",
    "    for item in record:\n",
    "        list_of_a = item.findAll(\"a\", href = True)\n",
    "        for a in list_of_a:\n",
    "            list_of_single_link.at[len(list_of_single_link)] = a['href']\n",
    "            \n",
    "list_of_single_link = list_of_single_link.sample(frac=0.3)"
   ]
  },
  {
   "cell_type": "code",
   "execution_count": 53,
   "metadata": {},
   "outputs": [
    {
     "data": {
      "text/plain": [
       "724"
      ]
     },
     "execution_count": 53,
     "metadata": {},
     "output_type": "execute_result"
    }
   ],
   "source": [
    "len(list_of_single_link)\n"
   ]
  },
  {
   "cell_type": "markdown",
   "metadata": {},
   "source": [
    "Now, we have a list to partucular posts as we want. We can make a frame of comments and its authors."
   ]
  },
  {
   "cell_type": "code",
   "execution_count": 9,
   "metadata": {},
   "outputs": [],
   "source": [
    "comment_text = []\n",
    "comment_author = []\n",
    "\n",
    "for item in list_of_single_link:\n",
    "    url = requests.get(item)\n",
    "    page_code = BeautifulSoup(url.text, \"html.parser\")\n",
    "\n",
    "    for i in (page_code.findAll(\"cite\", {\"class\":\"user\"})):\n",
    "        comment_author.append(i.text)\n",
    "\n",
    "    for i in (page_code.findAll(\"p\", {\"class\": \"comment-content\"})):\n",
    "        comment_text.append(i.text)\n",
    "\n",
    "comment_data = pd.DataFrame()\n",
    "comment_data['text'] = pd.Series(comment_text)\n",
    "comment_data['user'] = pd.Series(comment_author)"
   ]
  },
  {
   "cell_type": "markdown",
   "metadata": {},
   "source": [
    "We check most cammon authors of comments. Usually, it's only Anonymous person or a owner of the page Laura."
   ]
  },
  {
   "cell_type": "code",
   "execution_count": 11,
   "metadata": {},
   "outputs": [
    {
     "name": "stdout",
     "output_type": "stream",
     "text": [
      "Anonymous          158\n",
      "Laura               82\n",
      "Ewa Macherowska      4\n",
      "Miss Sasanja         2\n",
      "Beautyextra.pl       1\n",
      "Carmelatte           1\n",
      "m.                   1\n",
      "demoderniste         1\n",
      "Kinga Substelna      1\n",
      "Olga Wałecka         1\n",
      "whyursoshy           1\n",
      "Zuzanna Święcka      1\n",
      "Name: user, dtype: int64\n"
     ]
    }
   ],
   "source": [
    "the_most_common_authors = comment_data['user'].value_counts()\n",
    "print(the_most_common_authors)"
   ]
  },
  {
   "cell_type": "markdown",
   "metadata": {},
   "source": [
    "We write frame to the file."
   ]
  },
  {
   "cell_type": "code",
   "execution_count": 33,
   "metadata": {},
   "outputs": [],
   "source": [
    "comment_data.to_csv(r'C:\\Users\\edzia\\OneDrive\\Desktop\\Horkruks\\dane.csv')"
   ]
  },
  {
   "cell_type": "code",
   "execution_count": 38,
   "metadata": {},
   "outputs": [],
   "source": [
    "from sklearn.model_selection import train_test_split"
   ]
  }
 ],
 "metadata": {
  "kernelspec": {
   "display_name": "Python 3",
   "language": "python",
   "name": "python3"
  },
  "language_info": {
   "codemirror_mode": {
    "name": "ipython",
    "version": 3
   },
   "file_extension": ".py",
   "mimetype": "text/x-python",
   "name": "python",
   "nbconvert_exporter": "python",
   "pygments_lexer": "ipython3",
   "version": "3.7.1"
  }
 },
 "nbformat": 4,
 "nbformat_minor": 2
}
